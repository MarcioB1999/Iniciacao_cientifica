{
  "cells": [
    {
      "cell_type": "markdown",
      "metadata": {
        "id": "view-in-github",
        "colab_type": "text"
      },
      "source": [
        "<a href=\"https://colab.research.google.com/github/MarcioB1999/Iniciacao_cientifica/blob/main/idcode_H3.ipynb\" target=\"_parent\"><img src=\"https://colab.research.google.com/assets/colab-badge.svg\" alt=\"Open In Colab\"/></a>"
      ]
    },
    {
      "cell_type": "code",
      "execution_count": null,
      "metadata": {
        "id": "mIYBhindh8Yg"
      },
      "outputs": [],
      "source": [
        "from itertools import permutations as pt\n",
        "import numpy as np\n",
        "import pandas as pd  \n",
        "import networkx as nx\n",
        "import matplotlib.pyplot as plt\n",
        "from collections import OrderedDict\n",
        "import seaborn as sns\n",
        "from matplotlib import transforms\n"
      ]
    },
    {
      "cell_type": "code",
      "execution_count": null,
      "metadata": {
        "id": "KFGYGODWiIcm"
      },
      "outputs": [],
      "source": [
        "class vertice:\n",
        "\n",
        "  def __init__(self, conf, numb):\n",
        "    self.number=numb\n",
        "\n",
        "    self.c=conf\n",
        "\n",
        "    self.ident_A=[]\n",
        "\n",
        "    self.peso=sum(conf)\n",
        "\n",
        "\n",
        "#Essa função é responsavel para pegar o identificador de cada grafo individualmente\n",
        "  def Identificador_c(self):\n",
        "\n",
        "    #grafo representado como dicionario para facilitar  \n",
        "    A={0:[0,1,3],1:[0,1,2],2:[1,2,5],3:[0,3,4],4:[3,4,5,7],5:[2,4,5],6:[6,7],7:[4,6,7,8],8:[7,8]}\n",
        "    #cada nó é seu proprio vizinho pois ele pode pertencer ao seu identificador\n",
        "    ident_Aux=[]\n",
        "\n",
        "    #para cada nó \"i\" do grafo vou ver seus vizinhos, e quem for marcado coloco ele na lista de identificador de \"i\"\n",
        "    #ao final todas listas vao ser uma linha da matriz de identificadores, onde cada linha \"i\" é o identificador do nó \"i\"\n",
        "    for i in list(A.keys()):\n",
        "      \n",
        "      ident_i=[]\n",
        "      aux=[]\n",
        "      \n",
        "      #percorrendo vizinhos do nó \"i\" para saber quem esta marcado\n",
        "      for j in A[i]:\n",
        "        if(self.c[j]==1):\n",
        "          ident_i.append(j)\n",
        "\n",
        "\n",
        "      #adiciono a lista de identificador de \"i\" na \"matriz\"\n",
        "      ident_Aux.append(ident_i)\n",
        "    \n",
        "\n",
        "    self.ident_A=ident_Aux\n",
        "\n",
        "\n",
        "\n",
        "  def validacao(self):\n",
        "      \n",
        "\n",
        "      aux1=pd.DataFrame(self.ident_A).iloc[[1,4,7]].copy()\n",
        "      \n",
        "      aux2=aux1.copy()\n",
        "\n",
        "      aux2.drop_duplicates(inplace=True)\n",
        "\n",
        "      aux2.dropna(inplace=True, how='all') \n",
        "     \n",
        "      if(len(aux2)==len(aux1)):\n",
        "          return True\n",
        "      else:\n",
        "          return False\n",
        "  "
      ]
    },
    {
      "cell_type": "code",
      "execution_count": null,
      "metadata": {
        "id": "mROwDoyFcsB9"
      },
      "outputs": [],
      "source": [
        "class aresta:\n",
        "\n",
        "    def __init__(self, config1, config2):\n",
        "\n",
        "        self.c=list(np.concatenate((config1.c, config2.c)))\n",
        "        self.no1=config1\n",
        "        self.no2=config2\n",
        "        self.peso=(config1.peso+config2.peso)/2\n",
        "        self.ident_A=[]\n",
        "\n",
        "\n",
        "    def Juncao(self):\n",
        "        #definindo novas arestas ao se juntar os dois grafos\n",
        "        B={2:15,5:12,8:9,9:8,12:5,15:2}\n",
        "\n",
        "  \n",
        "        #aqui vou entrar na matriz de identificador do grafo 2, e mudar seus indices, pois agora ele esta junto com o 1, o indice dos\n",
        "        #seus vizinhos mudam, olhar imagem dos grafos juntos\n",
        "        aux = list(pd.DataFrame(self.no2.ident_A).replace({0:9,1:10,2:11,3:12,4:13,5:14,6:15,7:16,8:17,np.nan:'lixo'}).values)\n",
        "        #ao converter ele para dataframe, ele deixa todas as linhas da matriz com mesmo tamanho, preenchendo com Nan, onde n tinha valores\n",
        "        #Exemplo: [[1,2],[5]]--->[array([1,2]),array([5.Nan])]\n",
        "        #e cada linha vai ser do tipo array\n",
        "\n",
        "        #para arrumar isso, troquei os Nan de cada vetor pela string \"lixo\", e depois percorri cada linha da matriz e tirei os Nan por consequencia\n",
        "        #diminuindo a dimensao da linha\n",
        "        for i in range(len(aux)):\n",
        "            #convertendo as linhas para lista\n",
        "            aux[i]=list(aux[i])\n",
        "            #tirando os Nan\n",
        "            aux[i]=list(filter(('lixo').__ne__, aux[i]))\n",
        "        \n",
        "        ident_Aux=self.no1.ident_A+aux\n",
        "\n",
        "\n",
        "        #para adicionar um elemento novo ao identificador dos nós que se juntaram ao outro grafo, caso precise\n",
        "        for i in list(B.keys()):\n",
        "            #B[i] é o indice do vizinho de i\n",
        "            #C[B[i]]=se o vizinho de i é marcado ou n\n",
        "            if(self.c[B[i]]==1):\n",
        "                #pegar o identificador do i e colocar mais esse vizinho\n",
        "                if (i<9):\n",
        "                  ident_Aux[i]=ident_Aux[i]+[B[i]]\n",
        "                else:\n",
        "                  ident_Aux[i]=[B[i]]+ident_Aux[i]\n",
        "\n",
        "        self.ident_A=ident_Aux\n",
        "    \n",
        "\n",
        "    def Validacao(self):\n",
        "        aux1=pd.DataFrame(self.ident_A).iloc[[1,2,4,5,7,8,9,10,12,13,15,16]].copy()\n",
        "      \n",
        "        aux2=aux1.copy()\n",
        "        aux2.drop_duplicates(inplace=True)\n",
        "        aux2.dropna(inplace=True, how='all') \n",
        "\n",
        "        if(len(aux2)==len(aux1)):\n",
        "            return True\n",
        "        else:\n",
        "            return False"
      ]
    },
    {
      "cell_type": "code",
      "execution_count": null,
      "metadata": {
        "id": "1qaObV2HiO7M"
      },
      "outputs": [],
      "source": [
        "class solver:\n",
        "\n",
        "    def __init__(self):\n",
        "        self.n=None\n",
        "        self.N=None\n",
        "        self.config_validas=[]\n",
        "        self.uniao_validas=[]\n",
        "        self.adjM=[]\n",
        "\n",
        "\n",
        "    def Constr_Config(self):\n",
        "\n",
        "        c=np.zeros(9) \n",
        "        all=c.copy()\n",
        "\n",
        "        for i in range(9):\n",
        "            \n",
        "            c[i]=1\n",
        "            perm=pd.DataFrame(pt(c)).drop_duplicates()\n",
        "            all=np.vstack([all, perm])\n",
        "\n",
        "        val=[]\n",
        "        numb=0\n",
        "\n",
        "        for conf in all:\n",
        "\n",
        "            i=vertice(conf,numb)\n",
        "            i.Identificador_c()\n",
        "\n",
        "            if(i.validacao()):\n",
        "                val.append(i)\n",
        "                numb+=1\n",
        "\n",
        "        self.config_validas=val\n",
        "        self.n=len(val)\n",
        "        self.N=2*len(val)\n",
        "\n",
        "    \n",
        "    def Constr_Juncao(self):\n",
        "\n",
        "        validos=[]\n",
        "\n",
        "        for i in self.config_validas:\n",
        "\n",
        "            for j in  self.config_validas:\n",
        "\n",
        "                aux=vertice(j.c,j.number+self.n)\n",
        "                aux.Identificador_c()\n",
        "\n",
        "                uniao=aresta(i,aux)\n",
        "                uniao.Juncao()\n",
        "\n",
        "                if(uniao.Validacao()):\n",
        "                    validos.append(uniao)\n",
        "\n",
        "    \n",
        "        self.uniao_validas=validos\n",
        "\n",
        "\n",
        "\n",
        "    def Const_Matriz(self):\n",
        "        \n",
        "\n",
        "        A=np.zeros((self.N,self.N))\n",
        "        for i in range(self.N):\n",
        "          for j in range(self.N):\n",
        "            A[i,j] = 10**(10)\n",
        "\n",
        "        for i in self.uniao_validas:\n",
        "            A[i.no1.number,i.no2.number]=A[i.no1.number+self.n,i.no2.number-self.n]=i.peso\n",
        "        \n",
        "        print(f'valor min na matriz da iteração {iter} = {A.min()}')\n",
        "        print(f'valor max na matriz da iteração {iter} = {A.max()}')\n",
        "        print('-----------------------------------------------------------------')\n",
        "\n",
        "\n",
        "        self.adjM = np.array(A)\n",
        "\n",
        "       \n",
        "\n",
        "\n",
        "\n",
        "\n",
        "    def Floyd_Warshall(self):\n",
        "        dist = self.adjM\n",
        "        for k in range(self.N):\n",
        "            for i in range(self.N):\n",
        "                if (dist[i][i]<0):\n",
        "                    return False #quando tem ciclo negativo\n",
        "                for j in range(self.N):\n",
        "                  if (dist[i][k]<100)and(dist[k][j]<100):\n",
        "                    dist[i][j] = min(dist[i][j], dist[i][k] + dist[k][j])\n",
        "        return True #nao tem ciclo negativo\n",
        "                \n",
        "\n",
        "\n"
      ]
    },
    {
      "cell_type": "code",
      "execution_count": null,
      "metadata": {
        "id": "Ks8CLh3vo3sA",
        "colab": {
          "base_uri": "https://localhost:8080/"
        },
        "outputId": "5f262815-0c06-4e2b-8960-2be66e9b1ec8"
      },
      "outputs": [
        {
          "output_type": "stream",
          "name": "stdout",
          "text": [
            "378\n"
          ]
        }
      ],
      "source": [
        "S=solver() \n",
        "S.Constr_Config()\n",
        "print(len(S.config_validas))\n",
        "#S.Constr_Juncao()\n"
      ]
    },
    {
      "cell_type": "code",
      "source": [
        "2**9"
      ],
      "metadata": {
        "id": "l2BFHzfco5uv",
        "outputId": "be9f9716-fac7-446e-84e6-68591a070ef1",
        "colab": {
          "base_uri": "https://localhost:8080/"
        }
      },
      "execution_count": null,
      "outputs": [
        {
          "output_type": "execute_result",
          "data": {
            "text/plain": [
              "512"
            ]
          },
          "metadata": {},
          "execution_count": 7
        }
      ]
    },
    {
      "cell_type": "code",
      "source": [
        "S.Const_Matriz()"
      ],
      "metadata": {
        "colab": {
          "base_uri": "https://localhost:8080/"
        },
        "id": "rSAthU4KpCTv",
        "outputId": "f290e348-c629-4a63-fbb9-0ff8e9905432"
      },
      "execution_count": null,
      "outputs": [
        {
          "output_type": "stream",
          "name": "stdout",
          "text": [
            "valor min na matriz da iteração <built-in function iter> = 3.0\n",
            "valor max na matriz da iteração <built-in function iter> = 10000000000.0\n",
            "-----------------------------------------------------------------\n"
          ]
        }
      ]
    },
    {
      "cell_type": "code",
      "source": [
        "print(len(S.uniao_validas))"
      ],
      "metadata": {
        "colab": {
          "base_uri": "https://localhost:8080/"
        },
        "id": "pvrExHJq-NRi",
        "outputId": "4ae37d8e-9403-4301-dee9-8bb9e5537eb5"
      },
      "execution_count": null,
      "outputs": [
        {
          "output_type": "stream",
          "name": "stdout",
          "text": [
            "57723\n"
          ]
        }
      ]
    },
    {
      "cell_type": "code",
      "source": [
        "print(S.adjM[0][755])"
      ],
      "metadata": {
        "colab": {
          "base_uri": "https://localhost:8080/"
        },
        "id": "j3IRW0ENGoiO",
        "outputId": "bb79d8f8-d5e9-46db-d775-3811632b1956"
      },
      "execution_count": null,
      "outputs": [
        {
          "output_type": "stream",
          "name": "stdout",
          "text": [
            "6.0\n"
          ]
        }
      ]
    },
    {
      "cell_type": "code",
      "source": [
        "adjM = S.adjM.copy()\n",
        "N = S.N\n",
        "n = S.n\n",
        "print(n,N)"
      ],
      "metadata": {
        "id": "jJYCefjxNjbH",
        "colab": {
          "base_uri": "https://localhost:8080/"
        },
        "outputId": "96a0dd13-a3f6-44fa-94c8-3ab905cb654d"
      },
      "execution_count": null,
      "outputs": [
        {
          "output_type": "stream",
          "name": "stdout",
          "text": [
            "378 756\n"
          ]
        }
      ]
    },
    {
      "cell_type": "code",
      "source": [
        "matriz_menor = np.zeros((n,n))\n",
        "matriz_salto = np.zeros((n,n))\n",
        "for i in range(n):\n",
        "    for j in range(n):\n",
        "        matriz_menor[i][j] = 10**(10)\n",
        "        matriz_salto[i][j] = int(-1)\n",
        "        for k in range(n):\n",
        "            l = k + n\n",
        "            if (adjM[i][l]>100): continue\n",
        "            if (adjM[l][j]>100): continue\n",
        "            if (matriz_menor[i][j]<=adjM[i][l]+adjM[l][j]): continue\n",
        "            if (S.config_validas[i].c[2]==0)and(S.config_validas[j].c[0]==0)and(S.config_validas[k].c[6]==0)and(S.config_validas[k].c[8]==0): continue\n",
        "            if (S.config_validas[i].c[5]==0)and(S.config_validas[j].c[3]==0)and(S.config_validas[k].c[0]==0)and(S.config_validas[k].c[2]==0)and(S.config_validas[k].c[3]==0)and(S.config_validas[k].c[5]==0): continue\n",
        "            if (S.config_validas[i].c[8]==0)and(S.config_validas[j].c[0]==0)and(S.config_validas[k].c[0]==0)and(S.config_validas[k].c[2]==0)and(S.config_validas[k].c[3]==0)and(S.config_validas[k].c[5]==0): continue\n",
        "            matriz_menor[i][j] = adjM[i][l]+adjM[l][j]\n",
        "            matriz_salto[i][j] = int(k)\n",
        "\n"
      ],
      "metadata": {
        "id": "meeEMiqsiXRj"
      },
      "execution_count": null,
      "outputs": []
    },
    {
      "cell_type": "code",
      "source": [
        "print(matriz_menor)"
      ],
      "metadata": {
        "colab": {
          "base_uri": "https://localhost:8080/"
        },
        "id": "7DR6fks4pnbn",
        "outputId": "8f005d03-0781-48de-ffac-b11106e7e1f4"
      },
      "execution_count": null,
      "outputs": [
        {
          "output_type": "stream",
          "name": "stdout",
          "text": [
            "[[10.  10.  10.  ... 11.5 11.5 12. ]\n",
            " [10.  10.  10.  ... 11.5 11.5 12. ]\n",
            " [10.  10.  10.  ... 10.5 10.5 11. ]\n",
            " ...\n",
            " [ 9.5  8.5  8.5 ... 11.  11.  11.5]\n",
            " [ 9.5  8.5  8.5 ... 11.  11.  11.5]\n",
            " [10.   9.   9.  ... 11.5 11.5 12. ]]\n"
          ]
        }
      ]
    },
    {
      "cell_type": "code",
      "source": [
        "print(N)\n",
        "print(S.n)\n",
        "print(adjM[0][755])\n",
        "print(S.adjM[0][755])\n",
        "print(adjM[51][433])\n",
        "print(adjM[433][51])\n",
        "print(adjM[55][429])\n",
        "print(adjM[429][55])\n",
        "print(S.config_validas[51].c)\n",
        "print(S.config_validas[55].c)\n",
        "for i in S.uniao_validas:\n",
        "    if (i.no1.number==51)and(i.no2.number==433):\n",
        "        print(i.no1.number,i.no2.number,i.peso,i.c,i.ident_A)"
      ],
      "metadata": {
        "colab": {
          "base_uri": "https://localhost:8080/"
        },
        "id": "d04vVM-ANras",
        "outputId": "b885eb3c-3d20-47df-9b3f-daffd574a656"
      },
      "execution_count": null,
      "outputs": [
        {
          "output_type": "stream",
          "name": "stdout",
          "text": [
            "756\n",
            "378\n",
            "6.0\n",
            "6.0\n",
            "10000000000.0\n",
            "4.0\n",
            "4.0\n",
            "10000000000.0\n",
            "[1. 0. 1. 1. 0. 0. 0. 0. 1.]\n",
            "[1. 0. 1. 0. 0. 1. 1. 0. 0.]\n"
          ]
        }
      ]
    },
    {
      "cell_type": "code",
      "source": [
        "def rastreio(rast,i,j):\n",
        "  k = int(rast[i][j])\n",
        "  if (k==-1): return [j]\n",
        "  if (k==i): return []\n",
        "  if (k==j): return []\n",
        "  #print(i,j,k)\n",
        "  B = []\n",
        "  B = B + rastreio(rast,i,k)\n",
        "  B = B + rastreio(rast,k,j)\n",
        "  return B\n"
      ],
      "metadata": {
        "id": "Xc4ms9cqil_r"
      },
      "execution_count": null,
      "outputs": []
    },
    {
      "cell_type": "code",
      "source": [
        "def Floyd(adjM, N):\n",
        "    rast = np.zeros((N,N))\n",
        "    for i in range(N):\n",
        "      for j in range(N):\n",
        "        rast[i][j] = -1\n",
        "\n",
        "    dist = adjM.copy()\n",
        "    for k in range(N):\n",
        "        for i in range(N):\n",
        "            for j in range(N):\n",
        "              if (dist[i][k]<100)and(dist[k][j]<100):\n",
        "                if (dist[i][j] > dist[i][k] + dist[k][j]):\n",
        "                  dist[i][j] = dist[i][k] + dist[k][j]\n",
        "                  rast[i][j] = k\n",
        "                if (i==j)and(dist[i][i]<0):\n",
        "                  print(i,j,k,dist[i][j])\n",
        "                  A = [i]\n",
        "                  A = A + rastreio(rast,i,k)\n",
        "                  A = A + rastreio(rast,k,i)\n",
        "                  return A #quando tem ciclo negativo\n",
        "    return [-1,-1] #nao tem ciclo negativo\n"
      ],
      "metadata": {
        "id": "0s2jgLSwNJfp"
      },
      "execution_count": null,
      "outputs": []
    },
    {
      "cell_type": "code",
      "source": [
        "#for i in range(N):\n",
        "#  for j in range(N):\n",
        "#    adjM[i][j] = S.adjM[i][j] - 4.1"
      ],
      "metadata": {
        "id": "etaZce0wOkjx"
      },
      "execution_count": null,
      "outputs": []
    },
    {
      "cell_type": "code",
      "source": [
        "matriz_menor2 = matriz_menor.copy()\n",
        "for i in range(n):\n",
        "  for j in range(n):\n",
        "    matriz_menor2[i][j] = matriz_menor[i][j] - 2*9*(6/13) + 0.00000001    # 4.1538"
      ],
      "metadata": {
        "id": "MjdobhaXqtuL"
      },
      "execution_count": null,
      "outputs": []
    },
    {
      "cell_type": "code",
      "source": [
        "matriz_menor2[105][38] += 0.5  # += 0.5 # para evitar o codigo invalido com 105\n",
        "matriz_menor2[14][105] += 0.0  # += 0.5 # para evitar o codigo invalido com 105\n",
        "\n",
        "matriz_menor2[107][20] += 0.5  # += 0.5 # para evitar o codigo invalido com 107\n",
        "matriz_menor2[88][107] += 0.0  # += 0.5 # para evitar o codigo invalido com 107\n",
        "\n"
      ],
      "metadata": {
        "id": "GxB8WWrGtk2f"
      },
      "execution_count": null,
      "outputs": []
    },
    {
      "cell_type": "code",
      "source": [
        "#A = Floyd(adjM, N)\n",
        "A = Floyd(matriz_menor2, n)\n",
        "print(A)"
      ],
      "metadata": {
        "colab": {
          "base_uri": "https://localhost:8080/"
        },
        "id": "nD1Vzft7j4if",
        "outputId": "11a594bf-f61f-4a35-9a5b-4cc6ee065ead"
      },
      "execution_count": null,
      "outputs": [
        {
          "output_type": "stream",
          "name": "stdout",
          "text": [
            "179 179 177 -0.0014000000000038426\n",
            "[179, 88, 117, 51, 53, 62, 97, 123, 54, 55, 65, 38, 177, 179]\n"
          ]
        }
      ]
    },
    {
      "cell_type": "code",
      "source": [
        "#A = [179, 88, 117, 51, 53, 62, 97, 123, 54, 55, 65, 38, 177, 179] # Melhor codigo valido encontrado - Densidade 108/(26*9) = 6/13 = 0.46154\n",
        "#A = [177,61,54,55,65,38,177]  # codigo valido muito bom - Densidade 50/(12*9) = 25/54 = 0.463\n",
        "#A = [179, 88, 117, 51, 53, 62, 14, 105, 38, 177, 179] # codigo invalido por causa do 105\n",
        "#A = [179, 88, 107, 20, 123, 54, 55, 65, 38, 177, 179] # codigo invalido por causa do 107\n",
        "B = [A[0]]\n",
        "for i in range(len(A)-1):\n",
        "  B = B + [ int(matriz_salto[A[i]][A[i+1]]), A[i+1] ]\n",
        "\n",
        "print(A)\n",
        "print(B)\n",
        "\n",
        "for i in range(len(B)):\n",
        "  print(S.config_validas[B[i]].c)\n",
        "\n",
        "erro = 0\n",
        "for x in range(len(B)-2):\n",
        "    i = B[x]\n",
        "    k = B[x+1]\n",
        "    j = B[x+2]\n",
        "    if (S.config_validas[i].c[2]==0)and(S.config_validas[j].c[0]==0)and(S.config_validas[k].c[6]==0)and(S.config_validas[k].c[8]==0): erro=1; break\n",
        "    if (S.config_validas[i].c[5]==0)and(S.config_validas[j].c[3]==0)and(S.config_validas[k].c[0]==0)and(S.config_validas[k].c[2]==0)and(S.config_validas[k].c[3]==0)and(S.config_validas[k].c[5]==0): erro=1; break\n",
        "    if (S.config_validas[i].c[8]==0)and(S.config_validas[j].c[0]==0)and(S.config_validas[k].c[0]==0)and(S.config_validas[k].c[2]==0)and(S.config_validas[k].c[3]==0)and(S.config_validas[k].c[5]==0): erro=1; break\n",
        "if (erro==1): print(\"Codigo Invalido em \",i,k,j)\n",
        "else: print(\"CODIGO VALIDO\")"
      ],
      "metadata": {
        "colab": {
          "base_uri": "https://localhost:8080/"
        },
        "id": "Zy4zptg2R6cK",
        "outputId": "da96969e-6828-44b8-f0b4-f48dc14d4365"
      },
      "execution_count": null,
      "outputs": [
        {
          "output_type": "stream",
          "name": "stdout",
          "text": [
            "[179, 88, 117, 51, 53, 62, 97, 123, 54, 55, 65, 38, 177, 179]\n",
            "[179, 123, 88, 54, 117, 55, 51, 65, 53, 38, 62, 177, 97, 179, 123, 88, 54, 117, 55, 51, 65, 53, 38, 62, 177, 97, 179]\n",
            "[1. 0. 1. 0. 1. 0. 0. 1. 1.]\n",
            "[0. 0. 1. 0. 1. 1. 0. 1. 0.]\n",
            "[0. 1. 1. 0. 0. 1. 0. 1. 0.]\n",
            "[1. 0. 1. 0. 1. 0. 0. 0. 1.]\n",
            "[0. 0. 1. 1. 0. 1. 0. 1. 0.]\n",
            "[1. 0. 1. 0. 0. 1. 1. 0. 0.]\n",
            "[1. 0. 1. 1. 0. 0. 0. 0. 1.]\n",
            "[1. 0. 0. 1. 0. 1. 0. 1. 0.]\n",
            "[1. 0. 1. 0. 1. 0. 1. 0. 0.]\n",
            "[1. 1. 0. 1. 0. 0. 0. 1. 0.]\n",
            "[1. 0. 0. 1. 1. 0. 0. 1. 0.]\n",
            "[1. 0. 1. 0. 1. 0. 1. 1. 0.]\n",
            "[0. 1. 0. 1. 0. 1. 0. 1. 0.]\n",
            "[1. 0. 1. 0. 1. 0. 0. 1. 1.]\n",
            "[0. 0. 1. 0. 1. 1. 0. 1. 0.]\n",
            "[0. 1. 1. 0. 0. 1. 0. 1. 0.]\n",
            "[1. 0. 1. 0. 1. 0. 0. 0. 1.]\n",
            "[0. 0. 1. 1. 0. 1. 0. 1. 0.]\n",
            "[1. 0. 1. 0. 0. 1. 1. 0. 0.]\n",
            "[1. 0. 1. 1. 0. 0. 0. 0. 1.]\n",
            "[1. 0. 0. 1. 0. 1. 0. 1. 0.]\n",
            "[1. 0. 1. 0. 1. 0. 1. 0. 0.]\n",
            "[1. 1. 0. 1. 0. 0. 0. 1. 0.]\n",
            "[1. 0. 0. 1. 1. 0. 0. 1. 0.]\n",
            "[1. 0. 1. 0. 1. 0. 1. 1. 0.]\n",
            "[0. 1. 0. 1. 0. 1. 0. 1. 0.]\n",
            "[1. 0. 1. 0. 1. 0. 0. 1. 1.]\n",
            "CODIGO VALIDO\n"
          ]
        }
      ]
    }
  ],
  "metadata": {
    "colab": {
      "provenance": [],
      "include_colab_link": true
    },
    "kernelspec": {
      "display_name": "Python 3",
      "name": "python3"
    },
    "language_info": {
      "name": "python"
    }
  },
  "nbformat": 4,
  "nbformat_minor": 0
}